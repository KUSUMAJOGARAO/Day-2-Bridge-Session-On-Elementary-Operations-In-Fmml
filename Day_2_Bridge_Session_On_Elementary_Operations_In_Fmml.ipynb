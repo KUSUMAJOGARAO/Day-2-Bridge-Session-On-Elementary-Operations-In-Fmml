{
  "nbformat": 4,
  "nbformat_minor": 0,
  "metadata": {
    "colab": {
      "provenance": [],
      "collapsed_sections": [],
      "authorship_tag": "ABX9TyP/rQyLhbYvFDWiEww8s6oQ",
      "include_colab_link": true
    },
    "kernelspec": {
      "name": "python3",
      "display_name": "Python 3"
    },
    "language_info": {
      "name": "python"
    }
  },
  "cells": [
    {
      "cell_type": "markdown",
      "metadata": {
        "id": "view-in-github",
        "colab_type": "text"
      },
      "source": [
        "<a href=\"https://colab.research.google.com/github/KUSUMAJOGARAO/Day-2-Bridge-Session-On-Elementary-Operations-In-Fmml/blob/main/Day_2_Bridge_Session_On_Elementary_Operations_In_Fmml.ipynb\" target=\"_parent\"><img src=\"https://colab.research.google.com/assets/colab-badge.svg\" alt=\"Open In Colab\"/></a>"
      ]
    },
    {
      "cell_type": "code",
      "execution_count": null,
      "metadata": {
        "colab": {
          "base_uri": "https://localhost:8080/"
        },
        "id": "V9VX4HbUHWfO",
        "outputId": "5ea4eccc-8cee-4df9-e941-109651dadc96"
      },
      "outputs": [
        {
          "output_type": "stream",
          "name": "stdout",
          "text": [
            "Hello World\n"
          ]
        }
      ],
      "source": [
        "print(\"Hello World\")"
      ]
    },
    {
      "cell_type": "code",
      "source": [
        "a=3\n",
        "b=4\n",
        "print(a)"
      ],
      "metadata": {
        "colab": {
          "base_uri": "https://localhost:8080/"
        },
        "id": "p5QHzCAEHa-V",
        "outputId": "39027303-4979-441d-bea1-932d911a8427"
      },
      "execution_count": null,
      "outputs": [
        {
          "output_type": "stream",
          "name": "stdout",
          "text": [
            "3\n"
          ]
        }
      ]
    },
    {
      "cell_type": "code",
      "source": [
        "a=3\n",
        "b=2\n",
        "print(a**b)"
      ],
      "metadata": {
        "colab": {
          "base_uri": "https://localhost:8080/"
        },
        "id": "zxPFVUKuHbKG",
        "outputId": "976cc977-825b-4007-8f56-5345e3b49269"
      },
      "execution_count": null,
      "outputs": [
        {
          "output_type": "stream",
          "name": "stdout",
          "text": [
            "9\n"
          ]
        }
      ]
    },
    {
      "cell_type": "code",
      "source": [
        "str1=3\n",
        "str2=5\n",
        "print(str1)\n",
        "print(str2)"
      ],
      "metadata": {
        "colab": {
          "base_uri": "https://localhost:8080/"
        },
        "id": "fRl7Eaj6HbM-",
        "outputId": "b08c406d-2ee1-4291-be3b-98c9f717f48c"
      },
      "execution_count": null,
      "outputs": [
        {
          "output_type": "stream",
          "name": "stdout",
          "text": [
            "3\n",
            "5\n"
          ]
        }
      ]
    },
    {
      "cell_type": "code",
      "source": [
        "def solve(bricks,width,height):\n",
        "  w = [1] + [2] * width\n",
        "  for i in range(width):\n",
        "    if w[i]:\n",
        "      for x in bricks:\n",
        "        if i + x <= width:\n",
        "          w[i + x] += w[i]\n",
        "  return w[width] ** height\n",
        "\n",
        "  bricks = [2,1]\n",
        "  width = 3\n",
        "  height = 2\n",
        "  print(solve(bricks,width,height))"
      ],
      "metadata": {
        "id": "VcO8ECfFHbPe"
      },
      "execution_count": null,
      "outputs": []
    },
    {
      "cell_type": "code",
      "source": [
        "def findVolume(l, b, h) :\n",
        "  return ((l * b * h) / 2)\n",
        "  l = 10\n",
        "  b = 15\n",
        "  h = 20\n",
        "  print(\"Volume of triangular prism: \", findVolumme(l, b, h))\n"
      ],
      "metadata": {
        "id": "qVgfO7kRHbR7"
      },
      "execution_count": null,
      "outputs": []
    },
    {
      "cell_type": "code",
      "source": [
        "a=19\n",
        "b=34\n",
        "print(a==b)"
      ],
      "metadata": {
        "colab": {
          "base_uri": "https://localhost:8080/"
        },
        "id": "ioM8_-QCHbXU",
        "outputId": "5ad9590f-e786-420f-f09f-41ff91827835"
      },
      "execution_count": null,
      "outputs": [
        {
          "output_type": "stream",
          "name": "stdout",
          "text": [
            "False\n"
          ]
        }
      ]
    },
    {
      "cell_type": "code",
      "source": [
        "a=23\n",
        "b=35\n",
        "print(a<b and a>b)"
      ],
      "metadata": {
        "colab": {
          "base_uri": "https://localhost:8080/"
        },
        "id": "CCLN7NAjHbaB",
        "outputId": "0f66a358-6ec3-4e0a-f79e-6ef614b77e52"
      },
      "execution_count": null,
      "outputs": [
        {
          "output_type": "stream",
          "name": "stdout",
          "text": [
            "False\n"
          ]
        }
      ]
    },
    {
      "cell_type": "code",
      "source": [
        "a=5\n",
        "b=2,4,6,7,8\n",
        "print(a in {b})"
      ],
      "metadata": {
        "colab": {
          "base_uri": "https://localhost:8080/"
        },
        "id": "UodkvO2uHbcs",
        "outputId": "3b8b611a-f844-4784-c0a3-67ec5c1c5da5"
      },
      "execution_count": null,
      "outputs": [
        {
          "output_type": "stream",
          "name": "stdout",
          "text": [
            "False\n"
          ]
        }
      ]
    },
    {
      "cell_type": "code",
      "source": [
        "a=100\n",
        "b=329\n",
        "print(a&b)"
      ],
      "metadata": {
        "colab": {
          "base_uri": "https://localhost:8080/"
        },
        "id": "RBKAL-KEHbfS",
        "outputId": "423cbfad-b922-4987-c7c1-cbcf33ab04e4"
      },
      "execution_count": null,
      "outputs": [
        {
          "output_type": "stream",
          "name": "stdout",
          "text": [
            "64\n"
          ]
        }
      ]
    },
    {
      "cell_type": "code",
      "source": [],
      "metadata": {
        "id": "H7Q2VH0KHbhp"
      },
      "execution_count": null,
      "outputs": []
    },
    {
      "cell_type": "code",
      "source": [],
      "metadata": {
        "id": "MXNB3DCGHbka"
      },
      "execution_count": null,
      "outputs": []
    },
    {
      "cell_type": "code",
      "source": [],
      "metadata": {
        "id": "4eYseZ15Hbn0"
      },
      "execution_count": null,
      "outputs": []
    }
  ]
}